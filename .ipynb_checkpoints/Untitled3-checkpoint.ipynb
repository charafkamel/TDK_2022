{
 "cells": [
  {
   "cell_type": "code",
   "execution_count": 6,
   "id": "efacb909",
   "metadata": {},
   "outputs": [],
   "source": [
    "from Levenshtein import distance, editops, jaro"
   ]
  },
  {
   "cell_type": "code",
   "execution_count": 19,
   "id": "190fa091",
   "metadata": {},
   "outputs": [
    {
     "data": {
      "text/plain": [
       "0.0"
      ]
     },
     "execution_count": 19,
     "metadata": {},
     "output_type": "execute_result"
    }
   ],
   "source": [
    "jaro([1,2,3], [2,3,4,5])"
   ]
  },
  {
   "cell_type": "code",
   "execution_count": 8,
   "id": "a13e3da0",
   "metadata": {},
   "outputs": [
    {
     "data": {
      "text/plain": [
       "0.8666666666666667"
      ]
     },
     "execution_count": 8,
     "metadata": {},
     "output_type": "execute_result"
    }
   ],
   "source": [
    "jaro(\"arnab\", \"raanb\")"
   ]
  },
  {
   "cell_type": "code",
   "execution_count": 14,
   "id": "888d6ef3",
   "metadata": {},
   "outputs": [
    {
     "data": {
      "text/plain": [
       "0.9166666666666666"
      ]
     },
     "execution_count": 14,
     "metadata": {},
     "output_type": "execute_result"
    }
   ],
   "source": [
    "jaro([1,2,3], [1,2,3,5])"
   ]
  },
  {
   "cell_type": "code",
   "execution_count": null,
   "id": "1de4ab03",
   "metadata": {},
   "outputs": [],
   "source": []
  }
 ],
 "metadata": {
  "kernelspec": {
   "display_name": "GPU",
   "language": "python",
   "name": "gpu"
  },
  "language_info": {
   "codemirror_mode": {
    "name": "ipython",
    "version": 3
   },
   "file_extension": ".py",
   "mimetype": "text/x-python",
   "name": "python",
   "nbconvert_exporter": "python",
   "pygments_lexer": "ipython3",
   "version": "3.9.12"
  }
 },
 "nbformat": 4,
 "nbformat_minor": 5
}
